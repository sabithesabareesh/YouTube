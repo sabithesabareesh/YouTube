{
 "cells": [
  {
   "cell_type": "code",
   "execution_count": 1,
   "id": "32a115b6",
   "metadata": {},
   "outputs": [],
   "source": [
    "from bs4 import BeautifulSoup as bs\n",
    "import requests\n",
    "from pytube import YouTube\n",
    "\n",
    "video_ids = []\n",
    "titles = []\n",
    "views = []\n",
    "durations = []\n",
    "link = []\n",
    "\n",
    "url = \"https://www.youtube.com/results?search_query=jdfnwigb+jvnjwivb+qdkbkshf+wwhvfq\"\n",
    "r = requests.get(url)\n",
    "\n",
    "page = r.text\n",
    "soup=bs(page,'html.parser')\n",
    "\n",
    "vids = soup.findAll('a',attrs={'class':'yt-uix-tile-link'})\n",
    "videolist=[]\n",
    "for v in vids:\n",
    "    tmp = 'https://www.youtube.com' + v['href']\n",
    "    videolist.append(tmp)\n",
    "\n",
    "count=0\n",
    "for item in videolist:\n",
    "    count += 1\n",
    "    yt = YouTube(item)\n",
    "    link = yt\n",
    "    titles = yt.title\n",
    "    views =  yt.views\n",
    "    durations = yt.length"
   ]
  },
  {
   "cell_type": "code",
   "execution_count": 2,
   "id": "b5c0ca2c",
   "metadata": {},
   "outputs": [
    {
     "name": "stdout",
     "output_type": "stream",
     "text": [
      "[]\n"
     ]
    }
   ],
   "source": [
    "print(link)\n"
   ]
  }
 ],
 "metadata": {
  "kernelspec": {
   "display_name": "Python 3 (ipykernel)",
   "language": "python",
   "name": "python3"
  },
  "language_info": {
   "codemirror_mode": {
    "name": "ipython",
    "version": 3
   },
   "file_extension": ".py",
   "mimetype": "text/x-python",
   "name": "python",
   "nbconvert_exporter": "python",
   "pygments_lexer": "ipython3",
   "version": "3.9.12"
  }
 },
 "nbformat": 4,
 "nbformat_minor": 5
}
